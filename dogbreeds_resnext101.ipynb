{
  "nbformat": 4,
  "nbformat_minor": 0,
  "metadata": {
    "colab": {
      "name": "Untitled1.ipynb",
      "version": "0.3.2",
      "provenance": [],
      "collapsed_sections": [],
      "include_colab_link": true
    },
    "kernelspec": {
      "name": "python3",
      "display_name": "Python 3"
    },
    "accelerator": "GPU"
  },
  "cells": [
    {
      "cell_type": "markdown",
      "metadata": {
        "id": "view-in-github",
        "colab_type": "text"
      },
      "source": [
        "[View in Colaboratory](https://colab.research.google.com/github/rsumit123/Machine_Learning/blob/master/dogbreeds_resnext101.ipynb)"
      ]
    },
    {
      "metadata": {
        "id": "NBEFVlZe_Lhp",
        "colab_type": "code",
        "colab": {
          "base_uri": "https://localhost:8080/",
          "height": 173
        },
        "outputId": "e0c1d680-e59d-44f0-c42a-0701d04a2024"
      },
      "cell_type": "code",
      "source": [
        "!pip3 install kaggle"
      ],
      "execution_count": 120,
      "outputs": [
        {
          "output_type": "stream",
          "text": [
            "Requirement already satisfied: kaggle in /usr/local/lib/python3.6/dist-packages (1.4.5)\r\n",
            "Requirement already satisfied: tqdm in /usr/local/lib/python3.6/dist-packages (from kaggle) (4.24.0)\n",
            "Requirement already satisfied: python-dateutil in /usr/local/lib/python3.6/dist-packages (from kaggle) (2.5.3)\n",
            "Requirement already satisfied: six>=1.10 in /usr/local/lib/python3.6/dist-packages (from kaggle) (1.11.0)\n",
            "Requirement already satisfied: certifi in /usr/local/lib/python3.6/dist-packages (from kaggle) (2018.4.16)\n",
            "Requirement already satisfied: urllib3<1.23.0,>=1.15 in /usr/local/lib/python3.6/dist-packages (from kaggle) (1.22)\n",
            "Requirement already satisfied: requests in /usr/local/lib/python3.6/dist-packages (from kaggle) (2.18.4)\n",
            "Requirement already satisfied: idna<2.7,>=2.5 in /usr/local/lib/python3.6/dist-packages (from requests->kaggle) (2.6)\n",
            "Requirement already satisfied: chardet<3.1.0,>=3.0.2 in /usr/local/lib/python3.6/dist-packages (from requests->kaggle) (3.0.4)\n"
          ],
          "name": "stdout"
        }
      ]
    },
    {
      "metadata": {
        "id": "KhZN333N_ayw",
        "colab_type": "code",
        "colab": {}
      },
      "cell_type": "code",
      "source": [
        "!pip3 install http://download.pytorch.org/whl/cu80/torch-0.3.0.post4-cp36-cp36m-linux_x86_64.whl && pip3 install torchvision"
      ],
      "execution_count": 0,
      "outputs": []
    },
    {
      "metadata": {
        "id": "1mhquSKn_g6C",
        "colab_type": "code",
        "colab": {}
      },
      "cell_type": "code",
      "source": [
        "!pip3 install fastai"
      ],
      "execution_count": 0,
      "outputs": []
    },
    {
      "metadata": {
        "id": "Fx4NGGmSHmZD",
        "colab_type": "code",
        "colab": {}
      },
      "cell_type": "code",
      "source": [
        "from google.colab import files\n",
        "\n",
        "uploaded = files.upload()"
      ],
      "execution_count": 0,
      "outputs": []
    },
    {
      "metadata": {
        "id": "hsUiUaZ5H3x6",
        "colab_type": "code",
        "colab": {}
      },
      "cell_type": "code",
      "source": [
        "!mkdir .kaggle && mv kaggle.json .kaggle/"
      ],
      "execution_count": 0,
      "outputs": []
    },
    {
      "metadata": {
        "id": "6Z-Bnx-XAQvS",
        "colab_type": "code",
        "colab": {}
      },
      "cell_type": "code",
      "source": [
        "!kaggle competitions download -c dog-breed-identification"
      ],
      "execution_count": 0,
      "outputs": []
    },
    {
      "metadata": {
        "id": "AIWkDwwmJBbj",
        "colab_type": "code",
        "colab": {
          "base_uri": "https://localhost:8080/",
          "height": 191
        },
        "outputId": "8d004116-1397-4bf3-ef6d-81b5bb664b0c"
      },
      "cell_type": "code",
      "source": [
        "!kaggle competitions download -c digit-recognizer"
      ],
      "execution_count": 116,
      "outputs": [
        {
          "output_type": "stream",
          "text": [
            "Warning: Your Kaggle API key is readable by other users on this system! To fix this, you can run 'chmod 600 /content/.kaggle/kaggle.json'\n",
            "Downloading train.csv to /content\n",
            " 89%|█████████████████████████████████▋    | 65.0M/73.2M [00:00<00:00, 73.4MB/s]\n",
            "100%|███████████████████████████████████████| 73.2M/73.2M [00:00<00:00, 149MB/s]\n",
            "Downloading test.csv to /content\n",
            " 84%|███████████████████████████████▉      | 41.0M/48.8M [00:00<00:00, 54.3MB/s]\n",
            "100%|███████████████████████████████████████| 48.8M/48.8M [00:00<00:00, 127MB/s]\n",
            "Downloading sample_submission.csv to /content\n",
            "  0%|                                                | 0.00/235k [00:00<?, ?B/s]\n",
            "100%|█████████████████████████████████████████| 235k/235k [00:00<00:00, 137MB/s]\n"
          ],
          "name": "stdout"
        }
      ]
    },
    {
      "metadata": {
        "id": "Ldxs6fwvIAl9",
        "colab_type": "code",
        "colab": {}
      },
      "cell_type": "code",
      "source": [
        "!mkdir data && cd data && mkdir dogbreed"
      ],
      "execution_count": 0,
      "outputs": []
    },
    {
      "metadata": {
        "id": "nDJCoxL1IQaJ",
        "colab_type": "code",
        "colab": {}
      },
      "cell_type": "code",
      "source": [
        "!mv *.zip data/dogbreed/"
      ],
      "execution_count": 0,
      "outputs": []
    },
    {
      "metadata": {
        "id": "PYwFs3rkAzlv",
        "colab_type": "code",
        "colab": {}
      },
      "cell_type": "code",
      "source": [
        "!cd data/dogbreed && unzip test.zip\n",
        "\n"
      ],
      "execution_count": 0,
      "outputs": []
    },
    {
      "metadata": {
        "id": "PdoUIR_sETUA",
        "colab_type": "code",
        "colab": {
          "base_uri": "https://localhost:8080/",
          "height": 52
        },
        "outputId": "ec8fa41a-c404-49bd-d846-df3b8fdcbec5"
      },
      "cell_type": "code",
      "source": [
        "!cd data/dogbreed/ && ls"
      ],
      "execution_count": 20,
      "outputs": [
        {
          "output_type": "stream",
          "text": [
            "labels.csv\tsample_submission.csv\t   test      train\r\n",
            "labels.csv.zip\tsample_submission.csv.zip  test.zip  train.zip\r\n"
          ],
          "name": "stdout"
        }
      ]
    },
    {
      "metadata": {
        "id": "XXHXZvEcK4Ft",
        "colab_type": "code",
        "colab": {}
      },
      "cell_type": "code",
      "source": [
        "!pip3 install Pillow==4.0.0\n",
        "!pip3 install PIL\n",
        "!pip3 install image\n",
        "import PIL.image"
      ],
      "execution_count": 0,
      "outputs": []
    },
    {
      "metadata": {
        "id": "U_6h3sC9EaaQ",
        "colab_type": "code",
        "colab": {}
      },
      "cell_type": "code",
      "source": [
        "%reload_ext autoreload\n",
        "%autoreload 2\n",
        "%matplotlib inline"
      ],
      "execution_count": 0,
      "outputs": []
    },
    {
      "metadata": {
        "id": "fqp_IIS6Gc6X",
        "colab_type": "code",
        "colab": {}
      },
      "cell_type": "code",
      "source": [
        "from fastai.imports import *\n",
        "from fastai.torch_imports import *\n",
        "from fastai.transforms import *\n",
        "from fastai.conv_learner import *\n",
        "from fastai.model import *\n",
        "from fastai.dataset import *\n",
        "\n",
        "from fastai.sgdr import *\n",
        "from fastai.plots import *"
      ],
      "execution_count": 0,
      "outputs": []
    },
    {
      "metadata": {
        "id": "PLo9-4xWGfqX",
        "colab_type": "code",
        "colab": {}
      },
      "cell_type": "code",
      "source": [
        "torch.cuda.set_device(0)"
      ],
      "execution_count": 0,
      "outputs": []
    },
    {
      "metadata": {
        "id": "yIE71QaLHooS",
        "colab_type": "code",
        "colab": {}
      },
      "cell_type": "code",
      "source": [
        "PATH = \"data/dogbreed/\"\n",
        "sz = 224\n",
        "arch = resnext101_64\n",
        "bs = 58"
      ],
      "execution_count": 0,
      "outputs": []
    },
    {
      "metadata": {
        "id": "lgDys6ymMMi9",
        "colab_type": "code",
        "colab": {}
      },
      "cell_type": "code",
      "source": [
        "!wget -O fastai/weights.tgz http://files.fast.ai/models/weights.tgz"
      ],
      "execution_count": 0,
      "outputs": []
    },
    {
      "metadata": {
        "id": "2-eO2AncQUzZ",
        "colab_type": "code",
        "colab": {}
      },
      "cell_type": "code",
      "source": [
        "!cd .. && cd content && cd fastai && tar xvfz weights.tgz -C /usr/local/lib/python3.6/dist-packages/fastai/"
      ],
      "execution_count": 0,
      "outputs": []
    },
    {
      "metadata": {
        "id": "vEGlrauLIbYG",
        "colab_type": "code",
        "colab": {}
      },
      "cell_type": "code",
      "source": [
        "label_csv = f'{PATH}labels.csv'\n",
        "n = len(list(open(label_csv))) - 1 # header is not counted (-1)\n",
        "val_idxs = get_cv_idxs(n) # random 20% data for validation set"
      ],
      "execution_count": 0,
      "outputs": []
    },
    {
      "metadata": {
        "id": "bPZc44mNJRVV",
        "colab_type": "code",
        "colab": {
          "base_uri": "https://localhost:8080/",
          "height": 34
        },
        "outputId": "3e8dac1b-3c72-487a-df57-aca47c9fc96e"
      },
      "cell_type": "code",
      "source": [
        "n"
      ],
      "execution_count": 39,
      "outputs": [
        {
          "output_type": "execute_result",
          "data": {
            "text/plain": [
              "10222"
            ]
          },
          "metadata": {
            "tags": []
          },
          "execution_count": 39
        }
      ]
    },
    {
      "metadata": {
        "id": "ELPZK5o2JUhU",
        "colab_type": "code",
        "colab": {}
      },
      "cell_type": "code",
      "source": [
        "def get_data(sz, bs): # sz: image size, bs: batch size\n",
        "    tfms = tfms_from_model(arch, sz, aug_tfms=transforms_side_on, max_zoom=1.1)\n",
        "    data = ImageClassifierData.from_csv(PATH, 'train', f'{PATH}labels.csv', test_name='test',val_idxs=val_idxs, suffix='.jpg', tfms=tfms, bs=bs)\n",
        "    return data if sz > 300 else data.resize(340, 'tmp')"
      ],
      "execution_count": 0,
      "outputs": []
    },
    {
      "metadata": {
        "id": "9_Zo7WQuJj-5",
        "colab_type": "code",
        "colab": {
          "base_uri": "https://localhost:8080/",
          "height": 34
        },
        "outputId": "9e7b88a9-9709-4d55-c682-d00f0a34b6d1"
      },
      "cell_type": "code",
      "source": [
        "data = get_data(sz, bs)"
      ],
      "execution_count": 41,
      "outputs": [
        {
          "output_type": "display_data",
          "data": {
            "application/vnd.jupyter.widget-view+json": {
              "model_id": "521bdc151727455590e95c383316abbe",
              "version_minor": 0,
              "version_major": 2
            },
            "text/plain": [
              "HBox(children=(IntProgress(value=0, max=6), HTML(value='')))"
            ]
          },
          "metadata": {
            "tags": []
          }
        },
        {
          "output_type": "stream",
          "text": [
            ""
          ],
          "name": "stdout"
        }
      ]
    },
    {
      "metadata": {
        "id": "egZParjkJuoO",
        "colab_type": "code",
        "colab": {
          "base_uri": "https://localhost:8080/",
          "height": 208
        },
        "outputId": "33847bee-1bda-477e-fb7a-95b03c158742"
      },
      "cell_type": "code",
      "source": [
        "learn = ConvLearner.pretrained(arch, data, precompute=True)\n",
        "learn.fit(1e-2, 5)"
      ],
      "execution_count": 81,
      "outputs": [
        {
          "output_type": "stream",
          "text": [
            "100%|██████████| 141/141 [04:23<00:00,  1.87s/it]\n",
            "100%|██████████| 36/36 [01:05<00:00,  1.83s/it]\n",
            "100%|██████████| 179/179 [05:29<00:00,  1.84s/it]\n"
          ],
          "name": "stdout"
        },
        {
          "output_type": "display_data",
          "data": {
            "application/vnd.jupyter.widget-view+json": {
              "model_id": "4f85cad39d124650b5dedc391d32c185",
              "version_minor": 0,
              "version_major": 2
            },
            "text/plain": [
              "HBox(children=(IntProgress(value=0, description='Epoch', max=5), HTML(value='')))"
            ]
          },
          "metadata": {
            "tags": []
          }
        },
        {
          "output_type": "stream",
          "text": [
            "epoch      trn_loss   val_loss   accuracy   \n",
            "    0      0.914339   0.376564   0.905577  \n",
            "    1      0.428777   0.294496   0.917808  \n",
            "    2      0.307702   0.272288   0.916341  \n",
            "    3      0.227319   0.255192   0.919765  \n",
            "    4      0.189282   0.248055   0.917808  \n"
          ],
          "name": "stdout"
        },
        {
          "output_type": "execute_result",
          "data": {
            "text/plain": [
              "[array([0.24805]), 0.9178082224440901]"
            ]
          },
          "metadata": {
            "tags": []
          },
          "execution_count": 81
        }
      ]
    },
    {
      "metadata": {
        "id": "BbhFZMhtS2Qa",
        "colab_type": "code",
        "colab": {}
      },
      "cell_type": "code",
      "source": [
        "from sklearn import metrics"
      ],
      "execution_count": 0,
      "outputs": []
    },
    {
      "metadata": {
        "id": "iLTxd-6rWSpm",
        "colab_type": "code",
        "colab": {
          "base_uri": "https://localhost:8080/",
          "height": 34
        },
        "outputId": "15e31ce3-d197-4906-8e23-921ee5f84a5e"
      },
      "cell_type": "code",
      "source": [
        "\n",
        "\n",
        "data = get_data(sz, bs)\n",
        "\n"
      ],
      "execution_count": 83,
      "outputs": [
        {
          "output_type": "display_data",
          "data": {
            "application/vnd.jupyter.widget-view+json": {
              "model_id": "7fce5bcd9d954822b441a7bfc57d3112",
              "version_minor": 0,
              "version_major": 2
            },
            "text/plain": [
              "HBox(children=(IntProgress(value=0, max=6), HTML(value='')))"
            ]
          },
          "metadata": {
            "tags": []
          }
        }
      ]
    },
    {
      "metadata": {
        "id": "Zlue5mTfWW9a",
        "colab_type": "code",
        "colab": {}
      },
      "cell_type": "code",
      "source": [
        "learn = ConvLearner.pretrained(arch, data, precompute=True, ps=0.5)"
      ],
      "execution_count": 0,
      "outputs": []
    },
    {
      "metadata": {
        "id": "_OHv5FYPWceM",
        "colab_type": "code",
        "colab": {
          "base_uri": "https://localhost:8080/",
          "height": 104
        },
        "outputId": "f77aab4e-e23f-4234-c853-8dc9cc9bc5e2"
      },
      "cell_type": "code",
      "source": [
        "learn.fit(1e-2, 2)"
      ],
      "execution_count": 85,
      "outputs": [
        {
          "output_type": "display_data",
          "data": {
            "application/vnd.jupyter.widget-view+json": {
              "model_id": "f2135b9eddca47d282353d3a6cafe3c8",
              "version_minor": 0,
              "version_major": 2
            },
            "text/plain": [
              "HBox(children=(IntProgress(value=0, description='Epoch', max=2), HTML(value='')))"
            ]
          },
          "metadata": {
            "tags": []
          }
        },
        {
          "output_type": "stream",
          "text": [
            "epoch      trn_loss   val_loss   accuracy   \n",
            "    0      1.171656   0.439797   0.899217  \n",
            "    1      0.539079   0.326613   0.907534  \n"
          ],
          "name": "stdout"
        },
        {
          "output_type": "execute_result",
          "data": {
            "text/plain": [
              "[array([0.32661]), 0.9075342468669503]"
            ]
          },
          "metadata": {
            "tags": []
          },
          "execution_count": 85
        }
      ]
    },
    {
      "metadata": {
        "id": "8_0ALd7jWicS",
        "colab_type": "code",
        "colab": {}
      },
      "cell_type": "code",
      "source": [
        "learn.precompute = False"
      ],
      "execution_count": 0,
      "outputs": []
    },
    {
      "metadata": {
        "id": "xRjbBexAWp07",
        "colab_type": "code",
        "colab": {
          "base_uri": "https://localhost:8080/",
          "height": 156
        },
        "outputId": "ed05dcad-f9ad-4ba0-8da9-be54f8446529"
      },
      "cell_type": "code",
      "source": [
        "learn.fit(1e-2, 5, cycle_len=1)"
      ],
      "execution_count": 87,
      "outputs": [
        {
          "output_type": "display_data",
          "data": {
            "application/vnd.jupyter.widget-view+json": {
              "model_id": "d14083a80bc2408e92c6adfa8480bef7",
              "version_minor": 0,
              "version_major": 2
            },
            "text/plain": [
              "HBox(children=(IntProgress(value=0, description='Epoch', max=5), HTML(value='')))"
            ]
          },
          "metadata": {
            "tags": []
          }
        },
        {
          "output_type": "stream",
          "text": [
            "epoch      trn_loss   val_loss   accuracy   \n",
            "    0      0.458495   0.288305   0.912427  \n",
            "    1      0.428847   0.274114   0.916341  \n",
            "    2      0.397059   0.264608   0.917808  \n",
            "    3      0.362701   0.254815   0.921722  \n",
            "    4      0.357427   0.247071   0.925636  \n"
          ],
          "name": "stdout"
        },
        {
          "output_type": "execute_result",
          "data": {
            "text/plain": [
              "[array([0.24707]), 0.9256360152929496]"
            ]
          },
          "metadata": {
            "tags": []
          },
          "execution_count": 87
        }
      ]
    },
    {
      "metadata": {
        "id": "PDqoHsopWs_S",
        "colab_type": "code",
        "colab": {}
      },
      "cell_type": "code",
      "source": [
        "learn.save('224_pre')"
      ],
      "execution_count": 0,
      "outputs": []
    },
    {
      "metadata": {
        "id": "Ov_VmG-vdIU_",
        "colab_type": "code",
        "colab": {}
      },
      "cell_type": "code",
      "source": [
        "\n",
        "\n",
        "learn.load('224_pre')\n",
        "\n"
      ],
      "execution_count": 0,
      "outputs": []
    },
    {
      "metadata": {
        "id": "RtF-el4QdLSm",
        "colab_type": "code",
        "colab": {
          "base_uri": "https://localhost:8080/",
          "height": 34
        },
        "outputId": "f0416f02-c99e-43ac-ee94-360d1af4cb00"
      },
      "cell_type": "code",
      "source": [
        "learn.set_data(get_data(299, bs)) \n",
        "learn.freeze()"
      ],
      "execution_count": 90,
      "outputs": [
        {
          "output_type": "display_data",
          "data": {
            "application/vnd.jupyter.widget-view+json": {
              "model_id": "9baff30e998e47f59bd593fd00eea835",
              "version_minor": 0,
              "version_major": 2
            },
            "text/plain": [
              "HBox(children=(IntProgress(value=0, max=6), HTML(value='')))"
            ]
          },
          "metadata": {
            "tags": []
          }
        }
      ]
    },
    {
      "metadata": {
        "id": "1bCgDvAadRut",
        "colab_type": "code",
        "colab": {
          "base_uri": "https://localhost:8080/",
          "height": 121
        },
        "outputId": "fe3af9da-161f-40c1-c357-63fe92faf2a0"
      },
      "cell_type": "code",
      "source": [
        "\n",
        "\n",
        "learn.fit(1e-2, 3, cycle_len=1)\n",
        "\n"
      ],
      "execution_count": 91,
      "outputs": [
        {
          "output_type": "display_data",
          "data": {
            "application/vnd.jupyter.widget-view+json": {
              "model_id": "77d4cceccd594d11a96fe966236bed93",
              "version_minor": 0,
              "version_major": 2
            },
            "text/plain": [
              "HBox(children=(IntProgress(value=0, description='Epoch', max=3), HTML(value='')))"
            ]
          },
          "metadata": {
            "tags": []
          }
        },
        {
          "output_type": "stream",
          "text": [
            "epoch      trn_loss   val_loss   accuracy   \n",
            "    0      0.338927   0.23518    0.928082  \n",
            "    1      0.302653   0.224981   0.933953  \n",
            "    2      0.287597   0.224731   0.931507  \n"
          ],
          "name": "stdout"
        },
        {
          "output_type": "execute_result",
          "data": {
            "text/plain": [
              "[array([0.22473]), 0.9315068565469432]"
            ]
          },
          "metadata": {
            "tags": []
          },
          "execution_count": 91
        }
      ]
    },
    {
      "metadata": {
        "id": "wB5lRJWCddID",
        "colab_type": "code",
        "colab": {
          "base_uri": "https://localhost:8080/",
          "height": 121
        },
        "outputId": "de6ae2dd-d298-459b-c03c-d6089d9a249b"
      },
      "cell_type": "code",
      "source": [
        "# When you are under fitting, it means cycle_len=1 is too short (learning rate is getting reset before it had the chance to zoom in properly).\n",
        "learn.fit(1e-2, 2, cycle_len=1, cycle_mult=2) # 1+2+4 = 7 epochs"
      ],
      "execution_count": 92,
      "outputs": [
        {
          "output_type": "display_data",
          "data": {
            "application/vnd.jupyter.widget-view+json": {
              "model_id": "7014fa4345384a999a50ac1cb8e771fe",
              "version_minor": 0,
              "version_major": 2
            },
            "text/plain": [
              "HBox(children=(IntProgress(value=0, description='Epoch', max=3), HTML(value='')))"
            ]
          },
          "metadata": {
            "tags": []
          }
        },
        {
          "output_type": "stream",
          "text": [
            "epoch      trn_loss   val_loss   accuracy   \n",
            "    0      0.281769   0.219182   0.931996  \n",
            "    1      0.264357   0.216753   0.929061  \n",
            "    2      0.232678   0.216498   0.928571  \n"
          ],
          "name": "stdout"
        },
        {
          "output_type": "execute_result",
          "data": {
            "text/plain": [
              "[array([0.2165]), 0.9285714274633188]"
            ]
          },
          "metadata": {
            "tags": []
          },
          "execution_count": 92
        }
      ]
    },
    {
      "metadata": {
        "id": "9lz7deDulH1W",
        "colab_type": "code",
        "colab": {
          "base_uri": "https://localhost:8080/",
          "height": 34
        },
        "outputId": "31667c6d-3c23-4bb1-d4b5-a4303fce4ab7"
      },
      "cell_type": "code",
      "source": [
        "log_preds, y = learn.TTA() # (5, 2044, 120), (2044,)\n",
        "probs = np.mean(np.exp(log_preds),0)\n",
        "accuracy_np(probs, y), metrics.log_loss(y, probs)"
      ],
      "execution_count": 93,
      "outputs": [
        {
          "output_type": "stream",
          "text": [
            ""
          ],
          "name": "stdout"
        },
        {
          "output_type": "execute_result",
          "data": {
            "text/plain": [
              "(0.9334637964774951, 0.21149411960327266)"
            ]
          },
          "metadata": {
            "tags": []
          },
          "execution_count": 93
        }
      ]
    },
    {
      "metadata": {
        "id": "5c1Bzz4PsGMD",
        "colab_type": "code",
        "colab": {
          "base_uri": "https://localhost:8080/",
          "height": 34
        },
        "outputId": "27dec92d-14b1-47cc-96f2-92d178082f62"
      },
      "cell_type": "code",
      "source": [
        "len(data.val_ds.y), data.val_ds.y[:5]"
      ],
      "execution_count": 94,
      "outputs": [
        {
          "output_type": "execute_result",
          "data": {
            "text/plain": [
              "(2044, array([19, 15,  7, 99, 73]))"
            ]
          },
          "metadata": {
            "tags": []
          },
          "execution_count": 94
        }
      ]
    },
    {
      "metadata": {
        "id": "iuofkbzque58",
        "colab_type": "code",
        "colab": {}
      },
      "cell_type": "code",
      "source": [
        "learn.save('299_pre')"
      ],
      "execution_count": 0,
      "outputs": []
    },
    {
      "metadata": {
        "id": "zwFJOkADuiMx",
        "colab_type": "code",
        "colab": {}
      },
      "cell_type": "code",
      "source": [
        "learn.load('299_pre')"
      ],
      "execution_count": 0,
      "outputs": []
    },
    {
      "metadata": {
        "id": "8bv9IBEOumVj",
        "colab_type": "code",
        "colab": {
          "base_uri": "https://localhost:8080/",
          "height": 139
        },
        "outputId": "abc003ca-6dab-4a08-e2f5-0a1edb0b6a2e"
      },
      "cell_type": "code",
      "source": [
        "%time learn.fit(1e-2, 1, cycle_len=2) # 1+1 = 2 epochs"
      ],
      "execution_count": 115,
      "outputs": [
        {
          "output_type": "display_data",
          "data": {
            "application/vnd.jupyter.widget-view+json": {
              "model_id": "c878bd32f657406daa9012192ae5a2a9",
              "version_minor": 0,
              "version_major": 2
            },
            "text/plain": [
              "HBox(children=(IntProgress(value=0, description='Epoch', max=2), HTML(value='')))"
            ]
          },
          "metadata": {
            "tags": []
          }
        },
        {
          "output_type": "stream",
          "text": [
            "epoch      trn_loss   val_loss   accuracy   \n",
            "    0      0.214983   0.213177   0.934932  \n",
            "    1      0.20716    0.210867   0.930039  \n",
            "CPU times: user 18min 44s, sys: 3min 47s, total: 22min 31s\n",
            "Wall time: 19min 27s\n"
          ],
          "name": "stdout"
        },
        {
          "output_type": "execute_result",
          "data": {
            "text/plain": [
              "[array([0.21087]), 0.9300391411594682]"
            ]
          },
          "metadata": {
            "tags": []
          },
          "execution_count": 115
        }
      ]
    },
    {
      "metadata": {
        "id": "mrpF75w5uvrY",
        "colab_type": "code",
        "colab": {}
      },
      "cell_type": "code",
      "source": [
        "learn.save('299_pre')"
      ],
      "execution_count": 0,
      "outputs": []
    },
    {
      "metadata": {
        "id": "XdZh9UzvzjLW",
        "colab_type": "code",
        "colab": {
          "base_uri": "https://localhost:8080/",
          "height": 34
        },
        "outputId": "3e2f8d2d-8f97-4260-8ca6-b651e7e75b8b"
      },
      "cell_type": "code",
      "source": [
        "log_preds, y = learn.TTA()\n",
        "probs = np.mean(np.exp(log_preds),0)\n",
        "accuracy_np(probs, y), metrics.log_loss(y, probs)"
      ],
      "execution_count": 118,
      "outputs": [
        {
          "output_type": "stream",
          "text": [
            ""
          ],
          "name": "stdout"
        },
        {
          "output_type": "execute_result",
          "data": {
            "text/plain": [
              "(0.937866927592955, 0.20769600277394704)"
            ]
          },
          "metadata": {
            "tags": []
          },
          "execution_count": 118
        }
      ]
    },
    {
      "metadata": {
        "id": "YB3FCGOIznCF",
        "colab_type": "code",
        "colab": {}
      },
      "cell_type": "code",
      "source": [
        "data.classes"
      ],
      "execution_count": 0,
      "outputs": []
    },
    {
      "metadata": {
        "id": "bJwZOD5217sy",
        "colab_type": "code",
        "colab": {
          "base_uri": "https://localhost:8080/",
          "height": 17
        },
        "outputId": "8266d752-fae1-48a2-f477-dd90352333ac"
      },
      "cell_type": "code",
      "source": [
        "log_preds, y = learn.TTA(is_test=True) # use test dataset rather than validation dataset\n",
        "probs = np.mean(np.exp(log_preds),0)\n",
        "#accuracy_np(probs, y), metrcs.log_loss(y, probs) # This does not make sense since test dataset has no labels"
      ],
      "execution_count": 119,
      "outputs": [
        {
          "output_type": "stream",
          "text": [
            ""
          ],
          "name": "stdout"
        }
      ]
    },
    {
      "metadata": {
        "id": "3dtZLNee2KN6",
        "colab_type": "code",
        "colab": {
          "base_uri": "https://localhost:8080/",
          "height": 34
        },
        "outputId": "dd47a78c-ff8a-4d90-d790-3a34aa163677"
      },
      "cell_type": "code",
      "source": [
        "probs.shape"
      ],
      "execution_count": 102,
      "outputs": [
        {
          "output_type": "execute_result",
          "data": {
            "text/plain": [
              "(10357, 120)"
            ]
          },
          "metadata": {
            "tags": []
          },
          "execution_count": 102
        }
      ]
    },
    {
      "metadata": {
        "id": "MfP-rBP-CzBU",
        "colab_type": "code",
        "colab": {}
      },
      "cell_type": "code",
      "source": [
        "df = pd.DataFrame(probs)\n",
        "df.columns = data.classes"
      ],
      "execution_count": 0,
      "outputs": []
    },
    {
      "metadata": {
        "id": "kpWVWIjyC61a",
        "colab_type": "code",
        "colab": {}
      },
      "cell_type": "code",
      "source": [
        "df.insert(0, 'id', [o[5:-4] for o in data.test_ds.fnames])"
      ],
      "execution_count": 0,
      "outputs": []
    },
    {
      "metadata": {
        "id": "W-YF4GNEC-vW",
        "colab_type": "code",
        "colab": {
          "base_uri": "https://localhost:8080/",
          "height": 273
        },
        "outputId": "dc0069fe-225b-442c-d997-22384c580a03"
      },
      "cell_type": "code",
      "source": [
        "df.head()"
      ],
      "execution_count": 123,
      "outputs": [
        {
          "output_type": "execute_result",
          "data": {
            "text/html": [
              "<div>\n",
              "<style scoped>\n",
              "    .dataframe tbody tr th:only-of-type {\n",
              "        vertical-align: middle;\n",
              "    }\n",
              "\n",
              "    .dataframe tbody tr th {\n",
              "        vertical-align: top;\n",
              "    }\n",
              "\n",
              "    .dataframe thead th {\n",
              "        text-align: right;\n",
              "    }\n",
              "</style>\n",
              "<table border=\"1\" class=\"dataframe\">\n",
              "  <thead>\n",
              "    <tr style=\"text-align: right;\">\n",
              "      <th></th>\n",
              "      <th>id</th>\n",
              "      <th>affenpinscher</th>\n",
              "      <th>afghan_hound</th>\n",
              "      <th>african_hunting_dog</th>\n",
              "      <th>airedale</th>\n",
              "      <th>american_staffordshire_terrier</th>\n",
              "      <th>appenzeller</th>\n",
              "      <th>australian_terrier</th>\n",
              "      <th>basenji</th>\n",
              "      <th>basset</th>\n",
              "      <th>...</th>\n",
              "      <th>toy_poodle</th>\n",
              "      <th>toy_terrier</th>\n",
              "      <th>vizsla</th>\n",
              "      <th>walker_hound</th>\n",
              "      <th>weimaraner</th>\n",
              "      <th>welsh_springer_spaniel</th>\n",
              "      <th>west_highland_white_terrier</th>\n",
              "      <th>whippet</th>\n",
              "      <th>wire-haired_fox_terrier</th>\n",
              "      <th>yorkshire_terrier</th>\n",
              "    </tr>\n",
              "  </thead>\n",
              "  <tbody>\n",
              "    <tr>\n",
              "      <th>0</th>\n",
              "      <td>48fe589e1986cc099c2f543b8d9ba1cf</td>\n",
              "      <td>8.942935e-08</td>\n",
              "      <td>5.336734e-08</td>\n",
              "      <td>3.036006e-07</td>\n",
              "      <td>5.629700e-08</td>\n",
              "      <td>0.000005</td>\n",
              "      <td>1.395977e-07</td>\n",
              "      <td>9.251433e-08</td>\n",
              "      <td>9.972216e-08</td>\n",
              "      <td>3.629293e-08</td>\n",
              "      <td>...</td>\n",
              "      <td>6.226526e-09</td>\n",
              "      <td>6.843834e-08</td>\n",
              "      <td>8.068502e-08</td>\n",
              "      <td>1.014660e-07</td>\n",
              "      <td>4.524845e-07</td>\n",
              "      <td>2.630015e-08</td>\n",
              "      <td>3.099724e-06</td>\n",
              "      <td>4.968230e-08</td>\n",
              "      <td>4.671994e-08</td>\n",
              "      <td>2.029890e-09</td>\n",
              "    </tr>\n",
              "    <tr>\n",
              "      <th>1</th>\n",
              "      <td>d2fb2b794e4658bacb515a878d86fc68</td>\n",
              "      <td>4.466594e-05</td>\n",
              "      <td>6.136642e-06</td>\n",
              "      <td>1.214109e-05</td>\n",
              "      <td>1.135228e-05</td>\n",
              "      <td>0.000013</td>\n",
              "      <td>7.961155e-05</td>\n",
              "      <td>9.350474e-03</td>\n",
              "      <td>1.789862e-04</td>\n",
              "      <td>1.262898e-05</td>\n",
              "      <td>...</td>\n",
              "      <td>1.344369e-04</td>\n",
              "      <td>4.469822e-04</td>\n",
              "      <td>7.186619e-04</td>\n",
              "      <td>1.227731e-05</td>\n",
              "      <td>5.468928e-06</td>\n",
              "      <td>9.600495e-06</td>\n",
              "      <td>4.399897e-05</td>\n",
              "      <td>1.085107e-05</td>\n",
              "      <td>4.070132e-04</td>\n",
              "      <td>4.539162e-04</td>\n",
              "    </tr>\n",
              "    <tr>\n",
              "      <th>2</th>\n",
              "      <td>c0ceebc932819b4abd009c2e7ab2794c</td>\n",
              "      <td>4.472983e-08</td>\n",
              "      <td>9.372182e-08</td>\n",
              "      <td>3.988084e-08</td>\n",
              "      <td>3.808947e-08</td>\n",
              "      <td>0.000013</td>\n",
              "      <td>1.062035e-07</td>\n",
              "      <td>2.524198e-08</td>\n",
              "      <td>1.119476e-03</td>\n",
              "      <td>1.444135e-06</td>\n",
              "      <td>...</td>\n",
              "      <td>4.015581e-08</td>\n",
              "      <td>7.968215e-08</td>\n",
              "      <td>3.648604e-05</td>\n",
              "      <td>1.600477e-06</td>\n",
              "      <td>1.727987e-06</td>\n",
              "      <td>1.174392e-07</td>\n",
              "      <td>1.423379e-07</td>\n",
              "      <td>7.531060e-05</td>\n",
              "      <td>7.506658e-08</td>\n",
              "      <td>5.319355e-08</td>\n",
              "    </tr>\n",
              "    <tr>\n",
              "      <th>3</th>\n",
              "      <td>c1efe62ad41393cd14a9793e4c58bf8f</td>\n",
              "      <td>3.212284e-07</td>\n",
              "      <td>8.737147e-07</td>\n",
              "      <td>1.190531e-06</td>\n",
              "      <td>3.434166e-07</td>\n",
              "      <td>0.000002</td>\n",
              "      <td>4.861778e-07</td>\n",
              "      <td>2.616314e-07</td>\n",
              "      <td>5.048392e-05</td>\n",
              "      <td>5.526671e-06</td>\n",
              "      <td>...</td>\n",
              "      <td>6.848886e-06</td>\n",
              "      <td>1.091849e-06</td>\n",
              "      <td>3.182521e-02</td>\n",
              "      <td>1.194281e-05</td>\n",
              "      <td>3.851805e-06</td>\n",
              "      <td>4.806039e-07</td>\n",
              "      <td>5.118554e-08</td>\n",
              "      <td>1.863707e-06</td>\n",
              "      <td>3.453141e-08</td>\n",
              "      <td>1.858553e-06</td>\n",
              "    </tr>\n",
              "    <tr>\n",
              "      <th>4</th>\n",
              "      <td>c4b07fbca9738b950b1c989a4708429f</td>\n",
              "      <td>2.383529e-05</td>\n",
              "      <td>8.367935e-05</td>\n",
              "      <td>3.430191e-06</td>\n",
              "      <td>3.618209e-06</td>\n",
              "      <td>0.000004</td>\n",
              "      <td>3.600845e-05</td>\n",
              "      <td>9.122576e-06</td>\n",
              "      <td>3.952025e-06</td>\n",
              "      <td>2.649655e-04</td>\n",
              "      <td>...</td>\n",
              "      <td>7.485874e-04</td>\n",
              "      <td>2.245231e-05</td>\n",
              "      <td>1.283419e-05</td>\n",
              "      <td>5.081978e-06</td>\n",
              "      <td>6.639370e-06</td>\n",
              "      <td>8.558040e-05</td>\n",
              "      <td>1.201647e-02</td>\n",
              "      <td>3.238803e-05</td>\n",
              "      <td>4.715614e-04</td>\n",
              "      <td>6.447594e-04</td>\n",
              "    </tr>\n",
              "  </tbody>\n",
              "</table>\n",
              "<p>5 rows × 121 columns</p>\n",
              "</div>"
            ],
            "text/plain": [
              "                                 id  affenpinscher  afghan_hound  \\\n",
              "0  48fe589e1986cc099c2f543b8d9ba1cf   8.942935e-08  5.336734e-08   \n",
              "1  d2fb2b794e4658bacb515a878d86fc68   4.466594e-05  6.136642e-06   \n",
              "2  c0ceebc932819b4abd009c2e7ab2794c   4.472983e-08  9.372182e-08   \n",
              "3  c1efe62ad41393cd14a9793e4c58bf8f   3.212284e-07  8.737147e-07   \n",
              "4  c4b07fbca9738b950b1c989a4708429f   2.383529e-05  8.367935e-05   \n",
              "\n",
              "   african_hunting_dog      airedale  american_staffordshire_terrier  \\\n",
              "0         3.036006e-07  5.629700e-08                        0.000005   \n",
              "1         1.214109e-05  1.135228e-05                        0.000013   \n",
              "2         3.988084e-08  3.808947e-08                        0.000013   \n",
              "3         1.190531e-06  3.434166e-07                        0.000002   \n",
              "4         3.430191e-06  3.618209e-06                        0.000004   \n",
              "\n",
              "    appenzeller  australian_terrier       basenji        basset  \\\n",
              "0  1.395977e-07        9.251433e-08  9.972216e-08  3.629293e-08   \n",
              "1  7.961155e-05        9.350474e-03  1.789862e-04  1.262898e-05   \n",
              "2  1.062035e-07        2.524198e-08  1.119476e-03  1.444135e-06   \n",
              "3  4.861778e-07        2.616314e-07  5.048392e-05  5.526671e-06   \n",
              "4  3.600845e-05        9.122576e-06  3.952025e-06  2.649655e-04   \n",
              "\n",
              "         ...            toy_poodle   toy_terrier        vizsla  walker_hound  \\\n",
              "0        ...          6.226526e-09  6.843834e-08  8.068502e-08  1.014660e-07   \n",
              "1        ...          1.344369e-04  4.469822e-04  7.186619e-04  1.227731e-05   \n",
              "2        ...          4.015581e-08  7.968215e-08  3.648604e-05  1.600477e-06   \n",
              "3        ...          6.848886e-06  1.091849e-06  3.182521e-02  1.194281e-05   \n",
              "4        ...          7.485874e-04  2.245231e-05  1.283419e-05  5.081978e-06   \n",
              "\n",
              "     weimaraner  welsh_springer_spaniel  west_highland_white_terrier  \\\n",
              "0  4.524845e-07            2.630015e-08                 3.099724e-06   \n",
              "1  5.468928e-06            9.600495e-06                 4.399897e-05   \n",
              "2  1.727987e-06            1.174392e-07                 1.423379e-07   \n",
              "3  3.851805e-06            4.806039e-07                 5.118554e-08   \n",
              "4  6.639370e-06            8.558040e-05                 1.201647e-02   \n",
              "\n",
              "        whippet  wire-haired_fox_terrier  yorkshire_terrier  \n",
              "0  4.968230e-08             4.671994e-08       2.029890e-09  \n",
              "1  1.085107e-05             4.070132e-04       4.539162e-04  \n",
              "2  7.531060e-05             7.506658e-08       5.319355e-08  \n",
              "3  1.863707e-06             3.453141e-08       1.858553e-06  \n",
              "4  3.238803e-05             4.715614e-04       6.447594e-04  \n",
              "\n",
              "[5 rows x 121 columns]"
            ]
          },
          "metadata": {
            "tags": []
          },
          "execution_count": 123
        }
      ]
    },
    {
      "metadata": {
        "id": "2DBXm-5_DAzd",
        "colab_type": "code",
        "colab": {}
      },
      "cell_type": "code",
      "source": [
        "SUBM = f'{PATH}/subm/'\n",
        "os.makedirs(SUBM, exist_ok=True)\n",
        "df.to_csv(f'{SUBM}subm1.gz', compression='gzip', index=False)"
      ],
      "execution_count": 0,
      "outputs": []
    },
    {
      "metadata": {
        "id": "lj8EejPXDM2V",
        "colab_type": "code",
        "colab": {
          "base_uri": "https://localhost:8080/",
          "height": 34
        },
        "outputId": "45f91f4e-a6be-4440-db32-bfa762af4195"
      },
      "cell_type": "code",
      "source": [
        "FileLink(f'{SUBM}subm1.gz')"
      ],
      "execution_count": 125,
      "outputs": [
        {
          "output_type": "execute_result",
          "data": {
            "text/html": [
              "<a href='data/dogbreed//subm/subm1.gz' target='_blank'>data/dogbreed//subm/subm1.gz</a><br>"
            ],
            "text/plain": [
              "/content/data/dogbreed/subm/subm1.gz"
            ]
          },
          "metadata": {
            "tags": []
          },
          "execution_count": 125
        }
      ]
    },
    {
      "metadata": {
        "id": "gqU1rp3JDcuA",
        "colab_type": "code",
        "colab": {
          "base_uri": "https://localhost:8080/",
          "height": 52
        },
        "outputId": "2953f12d-dca3-4fa8-8264-8c4e0a0f87cc"
      },
      "cell_type": "code",
      "source": [
        "!kaggle competitions submit dog-breed-identification -f data/dogbreed//subm/subm1.gz -m \"first submit\""
      ],
      "execution_count": 126,
      "outputs": [
        {
          "output_type": "stream",
          "text": [
            "Warning: Your Kaggle API key is readable by other users on this system! To fix this, you can run 'chmod 600 /content/.kaggle/kaggle.json'\r\n",
            "Successfully submitted to Dog Breed Identification"
          ],
          "name": "stdout"
        }
      ]
    },
    {
      "metadata": {
        "id": "nHpupI2HESyD",
        "colab_type": "code",
        "colab": {
          "base_uri": "https://localhost:8080/",
          "height": 34
        },
        "outputId": "63cd2e15-de8f-4c37-b0eb-aae0810376b5"
      },
      "cell_type": "code",
      "source": [
        "pwd"
      ],
      "execution_count": 108,
      "outputs": [
        {
          "output_type": "execute_result",
          "data": {
            "text/plain": [
              "'/content'"
            ]
          },
          "metadata": {
            "tags": []
          },
          "execution_count": 108
        }
      ]
    },
    {
      "metadata": {
        "id": "G7ayWxAwET9w",
        "colab_type": "code",
        "colab": {
          "base_uri": "https://localhost:8080/",
          "height": 34
        },
        "outputId": "bdefd1c2-9861-451f-c7a5-dd6da53cf12f"
      },
      "cell_type": "code",
      "source": [
        "!cd data/dogbreed/subm/ && ls"
      ],
      "execution_count": 113,
      "outputs": [
        {
          "output_type": "stream",
          "text": [
            "subm.gz\r\n"
          ],
          "name": "stdout"
        }
      ]
    },
    {
      "metadata": {
        "id": "sQ5BrlXWEsqI",
        "colab_type": "code",
        "colab": {}
      },
      "cell_type": "code",
      "source": [
        ""
      ],
      "execution_count": 0,
      "outputs": []
    }
  ]
}